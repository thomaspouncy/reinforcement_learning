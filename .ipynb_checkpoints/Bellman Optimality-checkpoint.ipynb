{
 "cells": [
  {
   "cell_type": "code",
   "execution_count": 3,
   "metadata": {
    "collapsed": true
   },
   "outputs": [],
   "source": [
    "import numpy as np;"
   ]
  },
  {
   "cell_type": "code",
   "execution_count": 4,
   "metadata": {
    "collapsed": false
   },
   "outputs": [
    {
     "name": "stdout",
     "output_type": "stream",
     "text": [
      "[[ 4.51948839  8.72359135  4.54626916  5.65477528  1.69756493]\n",
      " [ 1.97471567  3.14150346  2.39211602  2.11921125  0.7170501 ]\n",
      " [ 0.25191769  0.87181455  0.82464287  0.65477528 -0.23582585]\n",
      " [-0.86770262 -0.34333271 -0.25362642 -0.45269118 -1.07300331]\n",
      " [-1.78622733 -1.27640865 -1.15584751 -1.34010637 -1.89627214]]\n"
     ]
    }
   ],
   "source": [
    "#exact solution\n",
    "a = np.reshape([-2.2,0.9,0.9,0,0,0,0,0,0,0,0,0,0,0,0,0,0,0,0,0,0,0,0,0,0,0,-1,0,0,0,0,0,0,0,0,0,0,0,0,0,0,0,0,0,0,0,1,0,0,0,0,0.9,-3.1,0.9,0,0,0,0.9,0,0,0,0,0,0,0,0,0,0,0,0,0,0,0,0,0,0,0,0,-1,0,0,0,0,0,0,0,0,0,1,0,0,0,0,0,0,0,0,0,0,0,0,0,0,0.9,-2.2,0,0,0,0,0.9,0,0,0,0,0,0,0,0,0,0,0,0,0,0,0,0.9,0,0,0,0,-3.1,0.9,0,0,0,0.9,0,0,0,0,0,0,0,0,0,0,0,0,0,0,0,0.9,0,0,0,0.9,-4,0.9,0,0,0,0.9,0,0,0,0,0,0,0,0,0,0,0,0,0,0,0,0.9,0,0,0,0.9,-4,0.9,0,0,0,0.9,0,0,0,0,0,0,0,0,0,0,0,0,0,0,0,0.9,0,0,0,0.9,-4,0.9,0,0,0,0.9,0,0,0,0,0,0,0,0,0,0,0,0,0,0,0,0.9,0,0,0,0.9,-3.1,0,0,0,0,0.9,0,0,0,0,0,0,0,0,0,0,0,0,0,0,0,0.9,0,0,0,0,-3.1,0.9,0,0,0,0.9,0,0,0,0,0,0,0,0,0,0,0,0,0,0,0,0.9,0,0,0,0.9,-4,0.9,0,0,0,0.9,0,0,0,0,0,0,0,0,0,0,0,0,0,0,0,0.9,0,0,0,0.9,-4,0.9,0,0,0,0.9,0,0,0,0,0,0,0,0,0,0,0,0,0,0,0,0.9,0,0,0,0.9,-3.1,0.9,0,0,0,0.9,0,0,0,0,0,0,0,0,0,0,0,0,0,0,0,0.9,0,0,0,0.9,-3.1,0,0,0,0,0.9,0,0,0,0,0,0,0,0,0,0,0,0,0,0,0,0.9,0,0,0,0,-3.1,0.9,0,0,0,0.9,0,0,0,0,0,0,0,0,0,0,0,0,0,0,0,0.9,0,0,0,0.9,-4,0.9,0,0,0,0.9,0,0,0,0,0,0,0,0,0,0,0,0,0,0,0,0.9,0,0,0,0.9,-4,0.9,0,0,0,0.9,0,0,0,0,0,0,0,0,0,0,0,0,0,0,0,0.9,0,0,0,0.9,-4,0.9,0,0,0,0.9,0,0,0,0,0,0,0,0,0,0,0,0,0,0,0,0.9,0,0,0,0.9,-3.1,0,0,0,0,0.9,0,0,0,0,0,0,0,0,0,0,0,0,0,0,0,0.9,0,0,0,0,-2.2,0.9,0,0,0,0,0,0,0,0,0,0,0,0,0,0,0,0,0,0,0,0.9,0,0,0,0.9,-3.1,0.9,0,0,0,0,0,0,0,0,0,0,0,0,0,0,0,0,0,0,0,0.9,0,0,0,0.9,-3.1,0.9,0,0,0,0,0,0,0,0,0,0,0,0,0,0,0,0,0,0,0,0.9,0,0,0,0.9,-3.1,0.9,0,0,0,0,0,0,0,0,0,0,0,0,0,0,0,0,0,0,0,0.9,0,0,0,0.9,-2.2],(25,25))\n",
    "# print a\n",
    "b = np.reshape([2,-10,1,-5,2,1,0,0,0,1,1,0,0,0,1,1,0,0,0,1,2,1,1,1,2],(25,1))\n",
    "# print b\n",
    "res = np.linalg.solve(a,b)\n",
    "print np.reshape(res,(5,5))"
   ]
  },
  {
   "cell_type": "code",
   "execution_count": 20,
   "metadata": {
    "collapsed": false
   },
   "outputs": [],
   "source": [
    "#policy evaluation approximation:\n",
    "\n",
    "#functions\n",
    "def transition(state,action,new_state):\n",
    "    if state == 1:\n",
    "        if new_state == 1:\n",
    "            return 1.0\n",
    "    elif state == 16:\n",
    "        if new_state == 16:\n",
    "            return 1.0\n",
    "    elif action == 'n':\n",
    "        if state in [2,3,4]:\n",
    "            if new_state == state:\n",
    "                return 1.0\n",
    "        else:\n",
    "            if new_state == state-4:\n",
    "                return 1.0\n",
    "    elif action == 'w': \n",
    "        if state in [5,9,13]:\n",
    "            if state == new_state:\n",
    "                return 1.0\n",
    "        else:\n",
    "            if new_state == state - 1:\n",
    "                return 1.0\n",
    "    elif action == 'e':\n",
    "        if state in [4,8,12]:\n",
    "            if new_state == state:\n",
    "                return 1.0\n",
    "        else:\n",
    "            if new_state == state + 1:\n",
    "                return 1.0\n",
    "    elif action == 's':\n",
    "        if state in [13,14,15]:\n",
    "            if new_state == state:\n",
    "                return 1.0\n",
    "        else:\n",
    "            if new_state == state + 4:\n",
    "                return 1.0\n",
    "    \n",
    "    return 0.0\n",
    "\n",
    "def reward(state,action,new_state):\n",
    "    if state == 1 or state == 16:\n",
    "        return 0.0\n",
    "    else:\n",
    "        return -1.0\n",
    "        \n",
    "y = 0.9\n",
    "states = [x+1 for x in range(16)]\n",
    "policy = [{'n': 0.25, 'e': 0.25, 's': 0.25, 'w': 0.25} for x in range(16)]\n",
    "actions = ['n','e','s','w']"
   ]
  },
  {
   "cell_type": "code",
   "execution_count": 17,
   "metadata": {
    "collapsed": false
   },
   "outputs": [
    {
     "name": "stdout",
     "output_type": "stream",
     "text": [
      "10.0\n",
      "9.0\n",
      "5.31441\n",
      "3.1381059609\n",
      "1.85302018885\n",
      "1.09418989132\n",
      "0.646108188923\n",
      "0.381520424477\n",
      "0.225283995449\n",
      "0.133027946473\n",
      "0.0785516721128\n",
      "0.0463839768659\n",
      "0.0273892744995\n",
      "0.0161730926992\n",
      "0.00955004950797\n",
      "0.00563920873396\n",
      "0.00332989636532\n",
      "0.00196627050476\n",
      "0.00116106307035\n",
      "0.000685596132417\n",
      "0.000404837660227\n",
      "0.00023905258999\n",
      "0.00014115816386\n",
      "8.33524841788e-05\n",
      "4.92188083854e-05\n",
      "2.90632141642e-05\n",
      "1.7161537329e-05\n",
      "1.01337161773e-05\n",
      "5.98385806327e-06\n",
      "3.53340834991e-06\n",
      "2.08644230071e-06\n",
      "1.23202330826e-06\n",
      "7.27497447173e-07\n",
      "4.29579966266e-07\n",
      "2.53662676641e-07\n",
      "1.49785272185e-07\n",
      "8.84467041828e-08\n",
      "[[ 21.97748516  24.41942801  21.97748521  19.41942801  17.47748521]\n",
      " [ 19.77973664  21.97748521  19.77973669  17.80176302  16.02158672]\n",
      " [ 17.80176298  19.77973669  17.80176302  16.02158672  14.41942805]\n",
      " [ 16.02158668  17.80176302  16.02158672  14.41942805  12.97748524]\n",
      " [ 14.41942801  16.02158672  14.41942805  12.97748524  11.67973672]]\n",
      "[['e' 's' 'w' 's' 'w']\n",
      " ['e' 'n' 'n' 'w' 'w']\n",
      " ['e' 'n' 'n' 'w' 'n']\n",
      " ['e' 'n' 'n' 'w' 'n']\n",
      " ['e' 'n' 'n' 'w' 'n']]\n"
     ]
    }
   ],
   "source": [
    "vals = list(np.zeros(16))\n",
    "while True:\n",
    "    # policy evaluation\n",
    "    thresh = 0.0000001\n",
    "    while True:\n",
    "        delta = 0\n",
    "\n",
    "        for state in states:\n",
    "            new_val = 0\n",
    "            for action in actions:\n",
    "                for new_state in states:\n",
    "                    new_val +=  policy[state-1][action] * transition(state,action,new_state) * (reward(state,action,new_state) + y * vals[new_state-1])\n",
    "            delta = max([delta,(new_val - vals[state-1])])\n",
    "            vals[state-1] = new_val\n",
    "\n",
    "        print delta\n",
    "        if delta < thresh:\n",
    "            break;\n",
    "    \n",
    "    # policy improvement\n",
    "    policy_stable = True\n",
    "    for s in states:\n",
    "        temp = max(policy[s-1].keys(), key=(lambda k: policy[s-1][k]))\n",
    "        temp_vals = {'n': 0.0,'e': 0.0,'s': 0.0,'w': 0.0}\n",
    "        old_val = 0\n",
    "        for action in actions:\n",
    "            for new_state in states:\n",
    "                temp_vals[action] += transition(s,action,new_state) * (reward(s,action,new_state) + y * vals[new_state-1])\n",
    "            if action == temp:\n",
    "                old_val = temp_vals[action]\n",
    "        new = max(temp_vals.keys(), key=(lambda k: temp_vals[k]))\n",
    "        new_val = max(temp_vals.values())\n",
    "        \n",
    "        if new != temp and new_val > old_val:\n",
    "            policy_stable = False\n",
    "            policy[s-1] = {'n': 0.0,'e': 0.0,'s': 0.0,'w': 0.0}\n",
    "            policy[s-1][new] = 1.0\n",
    "    \n",
    "    if policy_stable:\n",
    "        break\n",
    "    \n",
    "print np.reshape(vals,(4,4))\n",
    "opt_pol = [max(p.keys(), key=(lambda k: p[k])) for p in policy]\n",
    "print np.reshape(opt_pol,(4,4))"
   ]
  },
  {
   "cell_type": "code",
   "execution_count": 9,
   "metadata": {
    "collapsed": false
   },
   "outputs": [
    {
     "data": {
      "text/plain": [
       "['a', 'b']"
      ]
     },
     "execution_count": 9,
     "metadata": {},
     "output_type": "execute_result"
    }
   ],
   "source": [
    "{'a':1,'b':2}.keys()"
   ]
  },
  {
   "cell_type": "code",
   "execution_count": null,
   "metadata": {
    "collapsed": true
   },
   "outputs": [],
   "source": []
  }
 ],
 "metadata": {
  "kernelspec": {
   "display_name": "Python 2",
   "language": "python",
   "name": "python2"
  },
  "language_info": {
   "codemirror_mode": {
    "name": "ipython",
    "version": 2
   },
   "file_extension": ".py",
   "mimetype": "text/x-python",
   "name": "python",
   "nbconvert_exporter": "python",
   "pygments_lexer": "ipython2",
   "version": "2.7.10"
  }
 },
 "nbformat": 4,
 "nbformat_minor": 0
}
